{
 "cells": [
  {
   "cell_type": "code",
   "execution_count": null,
   "metadata": {},
   "outputs": [],
   "source": [
    "!pip install pylatexenc\n",
    "!pip install qiskit\n",
    "!pip install qiskit_aer\n",
    "!pip install qiskit_ibm_runtime"
   ]
  },
  {
   "cell_type": "code",
   "execution_count": 1,
   "metadata": {},
   "outputs": [],
   "source": [
    "import sys\n",
    "\n",
    "from math import gcd\n",
    "\n",
    "from qiskit_aer import AerSimulator\n",
    "from qiskit.transpiler.preset_passmanagers import generate_preset_pass_manager\n",
    "from qiskit.visualization import plot_histogram\n",
    "from qiskit_ibm_runtime import SamplerV2 as Sampler"
   ]
  },
  {
   "cell_type": "code",
   "execution_count": 2,
   "metadata": {},
   "outputs": [],
   "source": [
    "!git clone https://github.com/jeanfredericlaprade/shor_qiskit.git\n",
    "\n",
    "sys.path.insert(0,'/content/shor_qiskit')\n",
    "\n",
    "from Qshor import Shor"
   ]
  },
  {
   "attachments": {},
   "cell_type": "markdown",
   "metadata": {},
   "source": [
    "Here we factorise the number $15$ using the Aer quantum computer simulator.\n",
    "\n",
    "$15$ is the smallest \"interesting\" number that Shor's algorithm can factor."
   ]
  },
  {
   "cell_type": "code",
   "execution_count": null,
   "metadata": {},
   "outputs": [],
   "source": [
    "N = 15 \n",
    "backend = AerSimulator()\n",
    "\n",
    "shor = Shor(backend=backend)\n",
    "result = shor.factor(N)\n",
    "\n",
    "print(f\"The list of factors of {N} as computed by the Shor's algorithm is {result.factors[0]}.\")"
   ]
  },
  {
   "cell_type": "markdown",
   "metadata": {},
   "source": [
    "The next cell prepares the quantum circuit and shows its principal components at a high level of abstraction.\n",
    "\n",
    "There are three logically distinct quantum registers:\n",
    "- the \"up\" register, which will be measured to obtain a quotient of the frequency we're looking for\n",
    "- the \"down\" register, in which $a^x\\,\\text{mod}\\,N$ is computed \n",
    "- the auxillary register, which serves as a temporary storage space for the calculation in the down register.\n",
    "\n",
    "This circuit is an optimised implementation of the phase estimation algorithm applied to the operator that compute $a^x\\,\\text{mod}\\,N$.\n",
    "\n",
    "Two advanced subjects (for another time)!\n"
   ]
  },
  {
   "cell_type": "code",
   "execution_count": null,
   "metadata": {},
   "outputs": [],
   "source": [
    "a = 13\n",
    "circuit = shor.construct_circuit(N, a, measurement=True)\n",
    "print(\"The circuit has a depth \", circuit.decompose(reps=4).depth(), \" base operators\")\n",
    "circuit.draw('mpl')"
   ]
  },
  {
   "cell_type": "code",
   "execution_count": 6,
   "metadata": {},
   "outputs": [],
   "source": [
    "pm = generate_preset_pass_manager(backend=backend, optimization_level=1)\n",
    "sampler = Sampler(backend)\n",
    "isa_circuit = pm.run(circuit)\n",
    "\n",
    "result = sampler.run([isa_circuit]).result()"
   ]
  },
  {
   "cell_type": "code",
   "execution_count": null,
   "metadata": {},
   "outputs": [],
   "source": [
    "counts = result[0].data.m.get_counts()\n",
    "plot_histogram(counts)"
   ]
  },
  {
   "attachments": {},
   "cell_type": "markdown",
   "metadata": {},
   "source": [
    "The observed difference in likelyhood are caused by the small number of sample we took. The $4$ measured state are in fact equally probable.\n",
    "The value we need to know to proceed is $r$ in \n",
    "\n",
    "$\\Large \\frac{m}{2^n} = \\frac{s}{r}$\n",
    "\n",
    "where $m$ is the measurement result, $s$ is a random number and $n$ is the number of qubit used in the \"up\" register, $8$ in our case.\n"
   ]
  },
  {
   "attachments": {},
   "cell_type": "markdown",
   "metadata": {},
   "source": [
    "To convert a binary representation to a decimal representation with little-endian convention:\n",
    "\n",
    "> for a binary representation $m = b_{n-1} b_{n-2} \\ldots b_1 b_0$, then\n",
    "$m = \\sum_{i=0}^{n-1} b_i*2^i$.\n",
    "\n",
    "For example:\n",
    "\n",
    "> $10010 = 2^1 + 2^4 = 18$\n",
    "\n",
    "and for the basis state $01000000$:\n",
    "\n",
    "> $\\frac{m}{2^n} = \\frac{2^6}{2^8} = \\frac{1}{4}$"
   ]
  },
  {
   "attachments": {},
   "cell_type": "markdown",
   "metadata": {},
   "source": [
    "We therefore have found that $\\tfrac{s}{r}$ can take four values: $0$, $0.25$, $0.5$ et $0.75$.\n",
    "\n",
    "$r$ is the smallest common denominator of those numbers.\n",
    "\n",
    "Find the value for $r$, and from it determine the factors of $15$."
   ]
  },
  {
   "cell_type": "code",
   "execution_count": null,
   "metadata": {},
   "outputs": [],
   "source": [
    "#What is the right value?\n",
    "r = \"<your answer>\"\n",
    "\n",
    "# a^(r/2) mod N\n",
    "y = pow(a, r//2, N)\n",
    "\n",
    "k = gcd(y - 1, N)\n",
    "\n",
    "print(k)"
   ]
  },
  {
   "cell_type": "markdown",
   "metadata": {},
   "source": [
    "Exercise: \n",
    "  Determine the number of qubits needed by this implementation of Shor's algorithm in relation to the size of the bit representation of $N$.\n",
    "  \n",
    "  Proceed by printing the circuit for a few different values of $N$.\n"
   ]
  },
  {
   "cell_type": "code",
   "execution_count": null,
   "metadata": {},
   "outputs": [],
   "source": [
    "N = 35  # Modify this value, for example with N = 21 or N = 35.\n",
    "nbit = N.bit_length()\n",
    "print(f'Number of bits needed to encode {N}: {nbit}')\n",
    "\n",
    "circuit = shor.construct_circuit(N, 2)\n",
    "print(f\"Number of qubits in Shor's circuit: {circuit.num_qubits}\")\n",
    "\n",
    "circuit.draw('mpl', scale=0.7)"
   ]
  }
 ],
 "metadata": {
  "kernelspec": {
   "display_name": "Python 3",
   "language": "python",
   "name": "python3"
  },
  "language_info": {
   "codemirror_mode": {
    "name": "ipython",
    "version": 3
   },
   "file_extension": ".py",
   "mimetype": "text/x-python",
   "name": "python",
   "nbconvert_exporter": "python",
   "pygments_lexer": "ipython3",
   "version": "3.11.7"
  },
  "orig_nbformat": 4,
  "vscode": {
   "interpreter": {
    "hash": "31f2aee4e71d21fbe5cf8b01ff0e069b9275f58929596ceb00d14d90e3e16cd6"
   }
  }
 },
 "nbformat": 4,
 "nbformat_minor": 2
}
