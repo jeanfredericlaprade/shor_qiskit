{
 "cells": [
  {
   "cell_type": "code",
   "execution_count": null,
   "metadata": {},
   "outputs": [],
   "source": [
    "!pip install pylatexenc\n",
    "!pip install qiskit\n",
    "!pip install qiskit_aer\n",
    "!pip install qiskit_ibm_runtime"
   ]
  },
  {
   "cell_type": "code",
   "execution_count": null,
   "metadata": {},
   "outputs": [],
   "source": [
    "import sys\n",
    "\n",
    "from math import gcd\n",
    "\n",
    "from qiskit_aer import AerSimulator\n",
    "from qiskit.transpiler.preset_passmanagers import generate_preset_pass_manager\n",
    "from qiskit.visualization import plot_histogram\n",
    "from qiskit_ibm_runtime import SamplerV2 as Sampler"
   ]
  },
  {
   "cell_type": "code",
   "execution_count": null,
   "metadata": {},
   "outputs": [],
   "source": [
    "!git clone https://github.com/jeanfredericlaprade/shor_qiskit.git\n",
    "\n",
    "sys.path.insert(0,'/content/shor_qiskit')\n",
    "\n",
    "from Qshor import Shor"
   ]
  },
  {
   "attachments": {},
   "cell_type": "markdown",
   "metadata": {},
   "source": [
    "Le nombre à factoriser est $15$ et\n",
    "on utilise un simulateur d'ordinateur quantique fournit par le module `Aer`. \n",
    "\n",
    "$15$ est le plus petit nombre que l'algorithme de Shor peut factoriser."
   ]
  },
  {
   "cell_type": "code",
   "execution_count": null,
   "metadata": {},
   "outputs": [],
   "source": [
    "N = 15 \n",
    "backend = AerSimulator()\n",
    "\n",
    "shor = Shor(backend=backend)\n",
    "result = shor.factor(N)\n",
    "\n",
    "print(f\"Les facteurs de {N} calculés par l'algorithme de Shor sont {result.factors[0][0]} et {result.factors[0][1]}.\")"
   ]
  },
  {
   "attachments": {},
   "cell_type": "markdown",
   "metadata": {},
   "source": [
    "La prochaine cellule calcule le circuit quantique et l'affiche dans une version \"haut niveau\".<br>\n",
    "On y voit:\n",
    "* le registre _up_, qu'on va mesurer pour obtenir un ratio de la fréquence recherchée,\n",
    "* le registre _down_, dans lequel $a^x\\,\\text{mod}\\,N$ est calculé,\n",
    "* le registre auxiliaire qui sert de stockage temporaire pour les calculs dans le registre _down_.\n",
    "\n",
    "Ce circuit correspond à l'algorithme d'évaluation de la phase appliqué à une implémentation efficace de l'opérateur calculant $a^x\\,\\text{mod}\\,N$.\n",
    "\n",
    "Deux sujet plus avancés (et pour une autre fois) !"
   ]
  },
  {
   "cell_type": "code",
   "execution_count": null,
   "metadata": {},
   "outputs": [],
   "source": [
    "a = 13\n",
    "circuit = shor.construct_circuit(N, a, measurement=True)\n",
    "\n",
    "print(\"Le circuit a une profondeur de\", circuit.decompose(reps=4).depth(), \"opérateurs de base.\")\n",
    "circuit.draw('mpl', scale=0.7)"
   ]
  },
  {
   "cell_type": "code",
   "execution_count": null,
   "metadata": {},
   "outputs": [],
   "source": [
    "\n",
    "pm = generate_preset_pass_manager(backend=backend, optimization_level=1)\n",
    "sampler = Sampler(backend)\n",
    "isa_circuit = pm.run(circuit)\n",
    "\n",
    "result = sampler.run([isa_circuit]).result()"
   ]
  },
  {
   "cell_type": "code",
   "execution_count": null,
   "metadata": {},
   "outputs": [],
   "source": [
    "counts = result[0].data.m.get_counts()\n",
    "plot_histogram(counts)"
   ]
  },
  {
   "attachments": {},
   "cell_type": "markdown",
   "metadata": {},
   "source": [
    "Les variations de probabilité qu'on peut observer sont dues au faible nombre d'échantillons que nous avons pris.<br>\n",
    "Les 4 états mesurés sont en fait équiprobables.\n",
    "La quantité qui nous interesse est $r$ dans la formule\n",
    "\n",
    "$\\Large \\frac{m}{2^n} = \\frac{x}{r}$\n",
    "\n",
    "où:\n",
    "> $m$ est le résultat de la mesure<br>\n",
    "> $x$ est un nombre aléatoire<br>\n",
    "> $n$ est le nombre de qubits dans le registre servant à l'estimation de phase ($8$ dans notre cas)."
   ]
  },
  {
   "attachments": {},
   "cell_type": "markdown",
   "metadata": {},
   "source": [
    "Pour convertir les valeurs binaires en valeurs décimales, on utilise la convention petit-boutisme (_little endian_):\n",
    "\n",
    "> si on a la représentation binaire $m = b_{n-1} b_{n-2} \\ldots b_1 b_0$, alors\n",
    "$m = \\sum_{i=0}^{n-1} b_i*2^i$.\n",
    "\n",
    "Par exemple:\n",
    "\n",
    "> $10010 = 2^1 + 2^4 = 18$\n",
    "\n",
    "et pour l'état de base $01000000$:\n",
    "\n",
    "> $\\frac{m}{2^n} = \\frac{2^6}{2^8} = \\frac{1}{4}$"
   ]
  },
  {
   "cell_type": "markdown",
   "metadata": {},
   "source": [
    "On trouve donc que les quatre valeurs possibles de $\\tfrac{x}{r}$ sont $0$, $0.25$, $0.5$ et $0.75$.\n",
    "\n",
    "$r$ est le dénominateur commun à tous ces nombres.\n",
    "\n",
    "Déterminez la valeur de r, et à partir de celle-ci déterminez un facteur de $15$"
   ]
  },
  {
   "cell_type": "code",
   "execution_count": null,
   "metadata": {},
   "outputs": [],
   "source": [
    "r = 0  # Mettre la bonne valeur ici!\n",
    "\n",
    "# a^(r/2) mod N\n",
    "y = pow(a, r//2, N)\n",
    "\n",
    "k = gcd(y - 1, N)\n",
    "\n",
    "print(k)"
   ]
  },
  {
   "attachments": {},
   "cell_type": "markdown",
   "metadata": {},
   "source": [
    "__Exercice__ \n",
    "\n",
    "Imprimez le circuit de l'algorithm de Shor pour plusieurs valeurs de $N$ et déterminez le nombre de qubits nécssaires à l'algorithme en fonction du nombre de bits utilisés par $N$.\n"
   ]
  },
  {
   "cell_type": "code",
   "execution_count": null,
   "metadata": {},
   "outputs": [],
   "source": [
    "N = 15  # Modifiez cette valeur, par exemple avec N = 21 ou N = 35\n",
    "nbit = N.bit_length()\n",
    "print(f'Nombre de bits nécessaires pour encoder {N}: {nbit}')\n",
    "\n",
    "circuit = shor.construct_circuit(N, 2)\n",
    "print(f\"Nombre de qubits dans le cicuit de l'algorithme de Shor: {circuit.num_qubits}\")\n",
    "\n",
    "circuit.draw('mpl', scale=0.7)"
   ]
  }
 ],
 "metadata": {
  "kernelspec": {
   "display_name": "qiskit",
   "language": "python",
   "name": "python3"
  },
  "language_info": {
   "codemirror_mode": {
    "name": "ipython",
    "version": 3
   },
   "file_extension": ".py",
   "mimetype": "text/x-python",
   "name": "python",
   "nbconvert_exporter": "python",
   "pygments_lexer": "ipython3",
   "version": "3.11.7"
  },
  "orig_nbformat": 4,
  "vscode": {
   "interpreter": {
    "hash": "81cfc0e50c93f82568610dccb22eae6eb90d80f5b8c4769a839926e4ff39b503"
   }
  }
 },
 "nbformat": 4,
 "nbformat_minor": 2
}
